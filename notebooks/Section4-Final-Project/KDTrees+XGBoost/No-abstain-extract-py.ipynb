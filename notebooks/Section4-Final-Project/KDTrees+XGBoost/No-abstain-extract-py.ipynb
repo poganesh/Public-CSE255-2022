{
 "cells": [
  {
   "cell_type": "code",
   "execution_count": 38,
   "id": "c631c1c5",
   "metadata": {},
   "outputs": [
    {
     "data": {
      "text/plain": [
       "'/Users/yoavfreund/projects/Public-CSE255-2022/notebooks/Section4-Final-Project/KDTrees+XGBoost'"
      ]
     },
     "execution_count": 38,
     "metadata": {},
     "output_type": "execute_result"
    }
   ],
   "source": [
    "%pwd"
   ]
  },
  {
   "cell_type": "code",
   "execution_count": 39,
   "id": "ce5375e4",
   "metadata": {},
   "outputs": [
    {
     "name": "stdout",
     "output_type": "stream",
     "text": [
      "learn.py\r\n"
     ]
    }
   ],
   "source": [
    "!ls learn.py"
   ]
  },
  {
   "cell_type": "code",
   "execution_count": 55,
   "id": "8eca3b72",
   "metadata": {},
   "outputs": [
    {
     "name": "stdout",
     "output_type": "stream",
     "text": [
      "Writing learn.py\n"
     ]
    }
   ],
   "source": [
    "%%writefile learn.py\n",
    "from lib.KDTreeEncoding import *\n",
    "\n",
    "import xgboost as xgb\n",
    "from lib.XGBHelper import *\n",
    "from lib.XGBoost_params import *\n",
    "from lib.score_analysis import *\n",
    "\n",
    "from lib.logger import logger\n",
    "\n",
    "from sklearn.model_selection import train_test_split\n",
    "import matplotlib.pyplot as plt\n",
    "import numpy as np\n",
    "from numpy import load\n",
    "from glob import glob\n",
    "import pandas as pd\n",
    "import pickle as pkl\n",
    "import sys\n",
    "from time import time\n",
    "\n",
    "class timer:\n",
    "    def __init__(self):\n",
    "        self.t0=time()\n",
    "        self.ts=[]\n",
    "    def mark(self,message):\n",
    "        self.ts.append((time()-self.t0,message))\n",
    "        print('%6.2f %s'%self.ts[-1])\n",
    "    def _print(self):\n",
    "        for i in range(len(self.ts)):\n",
    "            print('%6.2f %s'%self.ts[i])\n",
    "\n",
    "def train_boosted_trees(D):\n",
    "    ### Train and test\n",
    "    # set parameters for XGBoost\n",
    "    param['max_depth']=2\n",
    "    param['num_round']=10\n",
    "\n",
    "    ### Train on random split, urban and rural together\n",
    "\n",
    "    train_selector=np.random.rand(df.shape[0]) > 0.7\n",
    "    Train=D.get_subset(train_selector)\n",
    "    Test=D.get_subset(~train_selector)\n",
    "\n",
    "    param['num_round']=10\n",
    "    log10=simple_bootstrap(Train,Test,param,ensemble_size=30)\n",
    "    param['num_round']=100\n",
    "    log100=simple_bootstrap(Train,Test,param,ensemble_size=30)\n",
    "\n",
    "    styled_logs=[\n",
    "        {   'log':log10,\n",
    "            'style':['k:','k-'],\n",
    "            'label':'10 iterations',\n",
    "            'label_color':'k'\n",
    "        },\n",
    "        {   'log':log100,\n",
    "            'style':['r:','r-'],\n",
    "            'label':'100 iterations',\n",
    "            'label_color':'r'\n",
    "        }\n",
    "    ]\n",
    "    return styled_logs\n",
    "\n",
    "if __name__=='__main__':\n",
    "    poverty_dir=sys.argv[1]\n",
    "    T=timer()\n",
    "    depth=8   #for KDTree\n",
    "\n",
    "    ## load file list\n",
    "    image_dir=poverty_dir+'/anon_images'\n",
    "\n",
    "\n",
    "    files=glob(f'{image_dir}/*.npz')\n",
    "    print(f'found {len(files)} files')\n",
    "\n",
    "    T.mark('listed files')\n",
    "    train_table='../public_tables/train.csv'\n",
    "    df=pd.read_csv(train_table,index_col=0)\n",
    "    df.index=df['filename']\n",
    "\n",
    "    ## Generate encoding tree\n",
    "    train_size,tree=train_encoder(files,max_images=500,tree_depth=depth)\n",
    "    T.mark('generated encoder tree')\n",
    "    ## Encode all data using encoding tree\n",
    "    Enc_data=encoded_dataset(image_dir,df,tree,label_col='label')\n",
    "    T.mark('encoded images')\n",
    "    D=DataSplitter(Enc_data.data)\n",
    "    styled_logs=train_boosted_trees(D)\n",
    "\n",
    "    _mean,_std=plot_scores(styled_logs,title='All')\n",
    "    T.mark('trained trees')\n",
    "\n",
    "    pickle_file='data/Checkpoint.pk'\n",
    "    Dump={'styled_logs':styled_logs,\n",
    "         'tree':tree,\n",
    "         'mean':_mean,\n",
    "         'std':_std}\n",
    "    pkl.dump(Dump,open(pickle_file,'wb'))\n",
    "    T.mark('generated pickle file')\n",
    "    print('picklefile=',pickle_file)\n",
    "    T._print()"
   ]
  },
  {
   "cell_type": "code",
   "execution_count": null,
   "id": "ce63277e",
   "metadata": {},
   "outputs": [],
   "source": []
  }
 ],
 "metadata": {
  "kernelspec": {
   "display_name": "Python 3 (ipykernel)",
   "language": "python",
   "name": "python3"
  },
  "language_info": {
   "codemirror_mode": {
    "name": "ipython",
    "version": 3
   },
   "file_extension": ".py",
   "mimetype": "text/x-python",
   "name": "python",
   "nbconvert_exporter": "python",
   "pygments_lexer": "ipython3",
   "version": "3.9.12"
  },
  "toc": {
   "base_numbering": 1,
   "nav_menu": {},
   "number_sections": true,
   "sideBar": true,
   "skip_h1_title": false,
   "title_cell": "Table of Contents",
   "title_sidebar": "Contents",
   "toc_cell": false,
   "toc_position": {},
   "toc_section_display": true,
   "toc_window_display": false
  }
 },
 "nbformat": 4,
 "nbformat_minor": 5
}
