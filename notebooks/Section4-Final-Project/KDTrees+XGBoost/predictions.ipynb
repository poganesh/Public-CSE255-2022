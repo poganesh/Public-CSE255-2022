{
 "cells": [
  {
   "cell_type": "code",
   "execution_count": 1,
   "id": "074e383e",
   "metadata": {},
   "outputs": [],
   "source": [
    "from lib.KDTreeEncoding import *\n",
    "\n",
    "import xgboost as xgb\n",
    "from lib.XGBHelper import *\n",
    "from lib.XGBoost_params import *\n",
    "from lib.score_analysis import *\n",
    "\n",
    "from lib.logger import logger\n",
    "\n",
    "from sklearn.model_selection import train_test_split\n",
    "import matplotlib.pyplot as plt\n",
    "import numpy as np\n",
    "from numpy import load\n",
    "from glob import glob\n",
    "import pandas as pd\n",
    "import pickle as pkl\n",
    "\n",
    "poverty_dir = '/datasets/cs255-sp22-a00-public/poverty/'\n",
    "image_dir=poverty_dir+'anon_images/'"
   ]
  },
  {
   "cell_type": "code",
   "execution_count": 2,
   "id": "5cfc7efb",
   "metadata": {},
   "outputs": [],
   "source": [
    "import pickle as pkl\n",
    "pkl_file='data/DumpNoSplit.pk'\n",
    "D=pkl.load(open(pkl_file,'rb'))\n",
    "\n",
    "for k in D:\n",
    "    globals()[k]=D[k]\n",
    "scaling_mean=mean\n",
    "scaling_std=std\n",
    "\n",
    "bst_list=[x['bst'] for x in styled_logs[1]['log']]"
   ]
  },
  {
   "cell_type": "code",
   "execution_count": 3,
   "id": "afd00520",
   "metadata": {},
   "outputs": [
    {
     "name": "stdout",
     "output_type": "stream",
     "text": [
      "4509 image60.npznpz\n",
      "\n",
      "------------------------------------------------------------\n",
      "data/results_country.csv\n",
      "3779 image13692.npz\n",
      "\n",
      "------------------------------------------------------------\n",
      "data/results.csv\n"
     ]
    }
   ],
   "source": [
    "folds=[{'in':'country_test_reduct.csv','out':'results_country.csv'},\n",
    "      {'in':'random_test_reduct.csv','out':'results.csv'}]\n",
    "\n",
    "for fold_i in range(len(folds)):\n",
    "    fold=folds[fold_i]\n",
    "\n",
    "    test_csv=f'../public_tables/{fold[\"in\"]}'\n",
    "    test=pd.read_csv(test_csv,index_col=0)\n",
    "\n",
    "    out=pd.DataFrame()\n",
    "    out['filename'] = test['filename']\n",
    "    out['urban']=test['urban']\n",
    "    out['pred_wo_abstention']=0\n",
    "    out.set_index('filename', inplace=True)\n",
    "\n",
    "    Enc_data=encoded_dataset(image_dir,out,tree,label_col='pred_wo_abstention')\n",
    "\n",
    "    data=to_DMatrix(Enc_data.data)\n",
    "    Preds=zeros([Enc_data.data.shape[0],len(bst_list)])\n",
    "    for i in range(len(bst_list)):\n",
    "        Preds[:,i]=bst_list[i].predict(data,output_margin=True)\n",
    "    Preds=(Preds-scaling_mean)/scaling_std # apply overall score scaling\n",
    "\n",
    "    _mean=np.mean(Preds,axis=1)\n",
    "    _std=np.std(Preds,axis=1)\n",
    "\n",
    "    pred_wo_abstention=(2*(_mean>0))-1\n",
    "    pred_with_abstention=copy(pred_wo_abstention)\n",
    "    pred_with_abstention[_std>abs(_mean)]=0\n",
    "\n",
    "    out['pred_with_abstention'] = pred_with_abstention\n",
    "    out['pred_wo_abstention'] = pred_wo_abstention\n",
    "\n",
    "    outFile=f'data/{fold[\"out\"]}'\n",
    "    out.to_csv(outFile)\n",
    "    print('\\n\\n'+'-'*60)\n",
    "    print(outFile)"
   ]
  }
 ],
 "metadata": {
  "kernelspec": {
   "display_name": "Python 3",
   "language": "python",
   "name": "python3"
  },
  "language_info": {
   "codemirror_mode": {
    "name": "ipython",
    "version": 3
   },
   "file_extension": ".py",
   "mimetype": "text/x-python",
   "name": "python",
   "nbconvert_exporter": "python",
   "pygments_lexer": "ipython3",
   "version": "3.6.13"
  }
 },
 "nbformat": 4,
 "nbformat_minor": 5
}
