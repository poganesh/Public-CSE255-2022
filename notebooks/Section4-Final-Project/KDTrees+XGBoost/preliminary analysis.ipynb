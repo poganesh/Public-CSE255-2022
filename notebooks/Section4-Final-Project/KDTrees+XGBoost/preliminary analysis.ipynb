{
 "cells": [
  {
   "cell_type": "code",
   "execution_count": 1,
   "id": "23a64271",
   "metadata": {},
   "outputs": [
    {
     "name": "stdout",
     "output_type": "stream",
     "text": [
      "Populating the interactive namespace from numpy and matplotlib\n"
     ]
    }
   ],
   "source": [
    "import pandas as pd\n",
    "%pylab inline"
   ]
  },
  {
   "cell_type": "code",
   "execution_count": 2,
   "id": "aba4942d",
   "metadata": {},
   "outputs": [
    {
     "name": "stdout",
     "output_type": "stream",
     "text": [
      "4x4MileAquareAroundUCSD.png\r\n"
     ]
    }
   ],
   "source": [
    "!ls *.png"
   ]
  },
  {
   "cell_type": "code",
   "execution_count": 3,
   "id": "db525f0e",
   "metadata": {},
   "outputs": [
    {
     "data": {
      "text/plain": [
       "'/home/l1qiao/2022-spring-cse255/Public-CSE255-2022/notebooks/Section4-Final-Project/KDTrees+XGBoost'"
      ]
     },
     "execution_count": 3,
     "metadata": {},
     "output_type": "execute_result"
    }
   ],
   "source": [
    "%pwd"
   ]
  },
  {
   "cell_type": "markdown",
   "id": "6ea88033",
   "metadata": {},
   "source": [
    "### Area covered by each images\n",
    "30 meter * 224 = 6.72 KM. = 4.17 mile\n",
    "\n",
    "A 4X4 mile sqaure in san diego is:\n",
    "![4 square miles around UCSD](4x4MileAquareAroundUCSD.png)"
   ]
  },
  {
   "cell_type": "code",
   "execution_count": 4,
   "id": "56f31757",
   "metadata": {},
   "outputs": [
    {
     "data": {
      "text/plain": [
       "'../public_tables/train.csv'"
      ]
     },
     "execution_count": 4,
     "metadata": {},
     "output_type": "execute_result"
    }
   ],
   "source": [
    "file,=!ls ../public_tables/train.csv\n",
    "file"
   ]
  },
  {
   "cell_type": "code",
   "execution_count": 5,
   "id": "c4fc8d5a",
   "metadata": {
    "scrolled": true
   },
   "outputs": [
    {
     "data": {
      "text/html": [
       "<div>\n",
       "<style scoped>\n",
       "    .dataframe tbody tr th:only-of-type {\n",
       "        vertical-align: middle;\n",
       "    }\n",
       "\n",
       "    .dataframe tbody tr th {\n",
       "        vertical-align: top;\n",
       "    }\n",
       "\n",
       "    .dataframe thead th {\n",
       "        text-align: right;\n",
       "    }\n",
       "</style>\n",
       "<table border=\"1\" class=\"dataframe\">\n",
       "  <thead>\n",
       "    <tr style=\"text-align: right;\">\n",
       "      <th></th>\n",
       "      <th>country</th>\n",
       "      <th>wealthpooled</th>\n",
       "      <th>urban</th>\n",
       "      <th>label</th>\n",
       "      <th>nl_mean</th>\n",
       "    </tr>\n",
       "    <tr>\n",
       "      <th>filename</th>\n",
       "      <th></th>\n",
       "      <th></th>\n",
       "      <th></th>\n",
       "      <th></th>\n",
       "      <th></th>\n",
       "    </tr>\n",
       "  </thead>\n",
       "  <tbody>\n",
       "    <tr>\n",
       "      <th>image14517.npz</th>\n",
       "      <td>6</td>\n",
       "      <td>-1.019361</td>\n",
       "      <td>False</td>\n",
       "      <td>0</td>\n",
       "      <td>-0.086633</td>\n",
       "    </tr>\n",
       "    <tr>\n",
       "      <th>image7407.npz</th>\n",
       "      <td>6</td>\n",
       "      <td>-1.143002</td>\n",
       "      <td>False</td>\n",
       "      <td>0</td>\n",
       "      <td>-0.141589</td>\n",
       "    </tr>\n",
       "    <tr>\n",
       "      <th>image390.npz</th>\n",
       "      <td>6</td>\n",
       "      <td>1.056769</td>\n",
       "      <td>True</td>\n",
       "      <td>0</td>\n",
       "      <td>15.228898</td>\n",
       "    </tr>\n",
       "    <tr>\n",
       "      <th>image7980.npz</th>\n",
       "      <td>6</td>\n",
       "      <td>1.454064</td>\n",
       "      <td>True</td>\n",
       "      <td>1</td>\n",
       "      <td>11.082343</td>\n",
       "    </tr>\n",
       "    <tr>\n",
       "      <th>image13397.npz</th>\n",
       "      <td>6</td>\n",
       "      <td>1.708446</td>\n",
       "      <td>True</td>\n",
       "      <td>1</td>\n",
       "      <td>12.646744</td>\n",
       "    </tr>\n",
       "  </tbody>\n",
       "</table>\n",
       "</div>"
      ],
      "text/plain": [
       "                country  wealthpooled  urban  label    nl_mean\n",
       "filename                                                      \n",
       "image14517.npz        6     -1.019361  False      0  -0.086633\n",
       "image7407.npz         6     -1.143002  False      0  -0.141589\n",
       "image390.npz          6      1.056769   True      0  15.228898\n",
       "image7980.npz         6      1.454064   True      1  11.082343\n",
       "image13397.npz        6      1.708446   True      1  12.646744"
      ]
     },
     "execution_count": 5,
     "metadata": {},
     "output_type": "execute_result"
    }
   ],
   "source": [
    "df=pd.read_csv(file,index_col=0)\n",
    "df.head()"
   ]
  },
  {
   "cell_type": "code",
   "execution_count": 6,
   "id": "6bee3f0f",
   "metadata": {},
   "outputs": [
    {
     "data": {
      "text/plain": [
       "((11365, 5), (4129, 5))"
      ]
     },
     "execution_count": 6,
     "metadata": {},
     "output_type": "execute_result"
    }
   ],
   "source": [
    "urban_df=df[df['urban']==True]\n",
    "df.shape,urban_df.shape"
   ]
  },
  {
   "cell_type": "code",
   "execution_count": 7,
   "id": "b22dedfa",
   "metadata": {
    "scrolled": false
   },
   "outputs": [
    {
     "data": {
      "image/png": "[encoded data removed]",
      "text/plain": [
       "<Figure size 432x288 with 1 Axes>"
      ]
     },
     "metadata": {
      "needs_background": "light"
     },
     "output_type": "display_data"
    }
   ],
   "source": [
    "hist(urban_df['wealthpooled'],bins=100);\n",
    "title('Wealth for Urban');\n",
    "grid()"
   ]
  },
  {
   "cell_type": "markdown",
   "id": "91ef9125",
   "metadata": {},
   "source": [
    "Threshold for urban is 1.2"
   ]
  },
  {
   "cell_type": "code",
   "execution_count": 8,
   "id": "2da422d6",
   "metadata": {
    "scrolled": false
   },
   "outputs": [
    {
     "data": {
      "image/png": "[encoded data removed]",
      "text/plain": [
       "<Figure size 432x288 with 1 Axes>"
      ]
     },
     "metadata": {
      "needs_background": "light"
     },
     "output_type": "display_data"
    }
   ],
   "source": [
    "rural_df=df[df['urban']==False]\n",
    "hist(rural_df['wealthpooled'],bins=100);\n",
    "title('Wealth for Rural');\n",
    "grid()"
   ]
  },
  {
   "cell_type": "markdown",
   "id": "caa59d3b",
   "metadata": {},
   "source": [
    "threshold for rural is -0.5"
   ]
  },
  {
   "cell_type": "code",
   "execution_count": 9,
   "id": "bf6ac722",
   "metadata": {},
   "outputs": [
    {
     "data": {
      "text/plain": [
       "Counter({6: 641,\n",
       "         11: 575,\n",
       "         14: 581,\n",
       "         12: 428,\n",
       "         16: 248,\n",
       "         10: 374,\n",
       "         20: 456,\n",
       "         9: 1381,\n",
       "         22: 1472,\n",
       "         5: 676,\n",
       "         13: 1068,\n",
       "         15: 756,\n",
       "         19: 424,\n",
       "         7: 329,\n",
       "         17: 246,\n",
       "         18: 581,\n",
       "         21: 543,\n",
       "         8: 586})"
      ]
     },
     "execution_count": 9,
     "metadata": {},
     "output_type": "execute_result"
    }
   ],
   "source": [
    "from collections import Counter\n",
    "Counter(df['country'])"
   ]
  },
  {
   "cell_type": "code",
   "execution_count": 10,
   "id": "9c0b895d",
   "metadata": {},
   "outputs": [
    {
     "data": {
      "text/plain": [
       "Counter({False: 7236, True: 4129})"
      ]
     },
     "execution_count": 10,
     "metadata": {},
     "output_type": "execute_result"
    }
   ],
   "source": [
    "Counter(df['urban'])"
   ]
  }
 ],
 "metadata": {
  "kernelspec": {
   "display_name": "Python 3",
   "language": "python",
   "name": "python3"
  },
  "language_info": {
   "codemirror_mode": {
    "name": "ipython",
    "version": 3
   },
   "file_extension": ".py",
   "mimetype": "text/x-python",
   "name": "python",
   "nbconvert_exporter": "python",
   "pygments_lexer": "ipython3",
   "version": "3.6.13"
  },
  "toc": {
   "base_numbering": 1,
   "nav_menu": {},
   "number_sections": true,
   "sideBar": true,
   "skip_h1_title": false,
   "title_cell": "Table of Contents",
   "title_sidebar": "Contents",
   "toc_cell": false,
   "toc_position": {},
   "toc_section_display": true,
   "toc_window_display": false
  }
 },
 "nbformat": 4,
 "nbformat_minor": 5
}
